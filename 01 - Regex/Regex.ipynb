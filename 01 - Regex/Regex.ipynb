{
 "cells": [
  {
   "cell_type": "code",
   "execution_count": 1,
   "id": "4c977f60",
   "metadata": {},
   "outputs": [],
   "source": [
    "import re"
   ]
  },
  {
   "cell_type": "markdown",
   "id": "55c69aa5",
   "metadata": {},
   "source": [
    "### Regex Functions\n",
    "<br>\n",
    "\n",
    "| Function | Description                                                       |\n",
    "|----------|-------------------------------------------------------------------|\n",
    "| findall  | Returns a list containing all matches                             |\n",
    "| search   | Returns a Match object if there is a match anywhere in the string |\n",
    "| split    | Returns a list where the string has been split at each match      |\n",
    "| sub      | Replaces one or many matches with a string                        |"
   ]
  },
  {
   "cell_type": "markdown",
   "id": "59bd3a5e",
   "metadata": {},
   "source": [
    "Search the string to see if it starts with \"The\" and ends with \"Spain\":"
   ]
  },
  {
   "cell_type": "code",
   "execution_count": 5,
   "id": "f8560de8",
   "metadata": {},
   "outputs": [],
   "source": [
    "txt = \"The rain in Spain\"\n",
    "result = re.search(\"^The.*Spain$\", txt)"
   ]
  },
  {
   "cell_type": "code",
   "execution_count": 6,
   "id": "02461f79",
   "metadata": {
    "scrolled": true
   },
   "outputs": [
    {
     "name": "stdout",
     "output_type": "stream",
     "text": [
      "Yes! We have a match!\n"
     ]
    }
   ],
   "source": [
    "if result:\n",
    "    print('Yes! We have a match!')\n",
    "else:\n",
    "    print('No Match')"
   ]
  },
  {
   "cell_type": "markdown",
   "id": "3897c048",
   "metadata": {},
   "source": [
    "Search the string to see it starts with #"
   ]
  },
  {
   "cell_type": "code",
   "execution_count": 7,
   "id": "716a7666",
   "metadata": {
    "scrolled": true
   },
   "outputs": [
    {
     "data": {
      "text/plain": [
       "['#nature', '#beautiful']"
      ]
     },
     "execution_count": 7,
     "metadata": {},
     "output_type": "execute_result"
    }
   ],
   "source": [
    "tweet = \"wow!, it is a natural beauty. #nature #beautiful #\"\n",
    "\n",
    "x = re.findall('#[_]*[a-z]+', tweet)\n",
    "x"
   ]
  },
  {
   "cell_type": "markdown",
   "id": "925a400c",
   "metadata": {},
   "source": [
    "Search a word the contains inappropriate word"
   ]
  },
  {
   "cell_type": "code",
   "execution_count": 9,
   "id": "5b445053",
   "metadata": {},
   "outputs": [
    {
     "data": {
      "text/plain": [
       "'I hate this **sensored** news'"
      ]
     },
     "execution_count": 9,
     "metadata": {},
     "output_type": "execute_result"
    }
   ],
   "source": [
    "tweet = \"I hate this f**king news\"\n",
    "\n",
    "x = re.sub('f[a-z]*\\*+[a-z]*', '**sensored**', tweet)\n",
    "x"
   ]
  },
  {
   "cell_type": "markdown",
   "id": "fdd0b94b",
   "metadata": {},
   "source": [
    "Split a word"
   ]
  },
  {
   "cell_type": "code",
   "execution_count": 11,
   "id": "e75c603a",
   "metadata": {},
   "outputs": [
    {
     "name": "stdout",
     "output_type": "stream",
     "text": [
      "['The', 'rain', 'in', 'Spain']\n"
     ]
    }
   ],
   "source": [
    "txt = \"The rain in Spain\"\n",
    "x = re.split(\"\\s\", txt)\n",
    "print(x)"
   ]
  },
  {
   "cell_type": "markdown",
   "id": "15aebbb6",
   "metadata": {},
   "source": [
    "### Meta characters"
   ]
  },
  {
   "cell_type": "code",
   "execution_count": 12,
   "id": "e38ad8be",
   "metadata": {},
   "outputs": [
    {
     "name": "stdout",
     "output_type": "stream",
     "text": [
      "['h', 'e', 'a', 'i', 'i', 'a', 'i']\n"
     ]
    }
   ],
   "source": [
    "# []\n",
    "txt = \"The rain in Spain\"\n",
    "\n",
    "#Find all lower case characters alphabetically between \"a\" and \"m\":\n",
    "x = re.findall(\"[a-m]\", txt)\n",
    "print(x)"
   ]
  },
  {
   "cell_type": "code",
   "execution_count": 13,
   "id": "16f1c5d9",
   "metadata": {},
   "outputs": [
    {
     "name": "stdout",
     "output_type": "stream",
     "text": [
      "['5', '9']\n"
     ]
    }
   ],
   "source": [
    "# \\\n",
    "txt = \"That will be 59 dollars\"\n",
    "\n",
    "#Find all digit characters:\n",
    "x = re.findall(\"\\d\", txt)\n",
    "print(x)"
   ]
  },
  {
   "cell_type": "code",
   "execution_count": 14,
   "id": "44b95866",
   "metadata": {},
   "outputs": [
    {
     "name": "stdout",
     "output_type": "stream",
     "text": [
      "['hello']\n"
     ]
    }
   ],
   "source": [
    "# .\n",
    "txt = \"hello planet\"\n",
    "\n",
    "#Search for a sequence that starts with \"he\", followed by two (any) characters, and an \"o\":\n",
    "x = re.findall(\"he..o\", txt)\n",
    "print(x)"
   ]
  },
  {
   "cell_type": "code",
   "execution_count": 15,
   "id": "79d75328",
   "metadata": {},
   "outputs": [
    {
     "name": "stdout",
     "output_type": "stream",
     "text": [
      "Yes, the string starts with 'hello'\n"
     ]
    }
   ],
   "source": [
    "# ^\n",
    "txt = \"hello world\"\n",
    "\n",
    "#Check if the string starts with 'hello':\n",
    "x = re.findall(\"^hello\", txt)\n",
    "if x:\n",
    "    print(\"Yes, the string starts with 'hello'\")\n",
    "else:\n",
    "    print(\"No match\")"
   ]
  },
  {
   "cell_type": "code",
   "execution_count": 18,
   "id": "daaa9b54",
   "metadata": {},
   "outputs": [
    {
     "name": "stdout",
     "output_type": "stream",
     "text": [
      "Yes, the string ends with 'planet'\n"
     ]
    }
   ],
   "source": [
    "# $\n",
    "txt = \"hello world\"\n",
    "\n",
    "#Check if the string ends with 'world':\n",
    "x = re.findall(\"world$\", txt)\n",
    "if x:\n",
    "    print(\"Yes, the string ends with 'planet'\")\n",
    "else:\n",
    "    print(\"No match\")"
   ]
  },
  {
   "cell_type": "code",
   "execution_count": 20,
   "id": "7d5660b1",
   "metadata": {},
   "outputs": [
    {
     "name": "stdout",
     "output_type": "stream",
     "text": [
      "['hello']\n"
     ]
    }
   ],
   "source": [
    "# *\n",
    "txt = \"hello planet\"\n",
    "\n",
    "#Search for a sequence that starts with \"he\", followed by 0 or more (any) characters, and an \"o\":\n",
    "x = re.findall(\"he.*o\", txt)\n",
    "print(x)"
   ]
  },
  {
   "cell_type": "code",
   "execution_count": 25,
   "id": "f920ff06",
   "metadata": {
    "scrolled": true
   },
   "outputs": [
    {
     "name": "stdout",
     "output_type": "stream",
     "text": [
      "['helo']\n"
     ]
    }
   ],
   "source": [
    "# +\n",
    "txt = \"helo planet\"\n",
    "\n",
    "#Search for a sequence that starts with \"he\", followed by 1 or more (any) characters, and an \"o\":\n",
    "x = re.findall(\"he.+o\", txt)\n",
    "print(x)"
   ]
  },
  {
   "cell_type": "code",
   "execution_count": 29,
   "id": "470b2a7b",
   "metadata": {},
   "outputs": [
    {
     "name": "stdout",
     "output_type": "stream",
     "text": [
      "[]\n"
     ]
    }
   ],
   "source": [
    "# ?\n",
    "txt = \"hello planet\"\n",
    "\n",
    "#Search for a sequence that starts with \"he\", followed by 0 or 1  (any) character, and an \"o\":\n",
    "x = re.findall(\"he.?o\", txt)\n",
    "print(x)\n",
    "\n",
    "#This time we got no match, because there were not zero, not one, but two characters between \"he\" and the \"o\""
   ]
  },
  {
   "cell_type": "code",
   "execution_count": 32,
   "id": "6b564302",
   "metadata": {},
   "outputs": [
    {
     "name": "stdout",
     "output_type": "stream",
     "text": [
      "['hello']\n"
     ]
    }
   ],
   "source": [
    "# {}\n",
    "txt = \"hello planet\"\n",
    "\n",
    "#Search for a sequence that starts with \"he\", followed excactly 2 (any) characters, and an \"o\":\n",
    "x = re.findall(\"he.{2}o\", txt)\n",
    "print(x)"
   ]
  },
  {
   "cell_type": "code",
   "execution_count": 35,
   "id": "39c24f60",
   "metadata": {},
   "outputs": [
    {
     "name": "stdout",
     "output_type": "stream",
     "text": [
      "['falls']\n",
      "Yes, there is at least one match!\n"
     ]
    }
   ],
   "source": [
    "# |\n",
    "txt = \"The rain in Spain falls mainly in the plain!\"\n",
    "\n",
    "#Check if the string contains either \"falls\" or \"stays\":\n",
    "x = re.findall(\"falls|stays\", txt)\n",
    "print(x)\n",
    "\n",
    "if x:\n",
    "    print(\"Yes, there is at least one match!\")\n",
    "else:\n",
    "    print(\"No match\")"
   ]
  },
  {
   "cell_type": "markdown",
   "id": "90f567b3",
   "metadata": {},
   "source": [
    "### Practice"
   ]
  },
  {
   "cell_type": "code",
   "execution_count": 36,
   "id": "d1eed5f0",
   "metadata": {},
   "outputs": [
    {
     "data": {
      "text/plain": [
       "['23 oct 2019']"
      ]
     },
     "execution_count": 36,
     "metadata": {},
     "output_type": "execute_result"
    }
   ],
   "source": [
    "date = \"23 oct 2019 23 oct, 2019 23 october, 2019, 2019 oct 26,2020\"\n",
    "x = re.findall('\\d{2} [a-z]{3} \\d{4}', date)\n",
    "x"
   ]
  },
  {
   "cell_type": "code",
   "execution_count": 37,
   "id": "595cca95",
   "metadata": {},
   "outputs": [
    {
     "data": {
      "text/plain": [
       "'The cost of mobile is _'"
      ]
     },
     "execution_count": 37,
     "metadata": {},
     "output_type": "execute_result"
    }
   ],
   "source": [
    "text = \"The cost of mobile is $1000\"\n",
    "x = re.sub('\\$\\d+','_', text)\n",
    "x"
   ]
  },
  {
   "cell_type": "code",
   "execution_count": 38,
   "id": "ad3c6445",
   "metadata": {},
   "outputs": [
    {
     "data": {
      "text/plain": [
       "'refer to '"
      ]
     },
     "execution_count": 38,
     "metadata": {},
     "output_type": "execute_result"
    }
   ],
   "source": [
    "text = \"refer to http://medium.com\"\n",
    "x = re.sub('http[s]?\\://\\S+','', text)\n",
    "x"
   ]
  },
  {
   "cell_type": "code",
   "execution_count": 51,
   "id": "d064834d",
   "metadata": {
    "scrolled": true
   },
   "outputs": [
    {
     "data": {
      "text/plain": [
       "'refer to medium.com'"
      ]
     },
     "execution_count": 51,
     "metadata": {},
     "output_type": "execute_result"
    }
   ],
   "source": [
    "text = \"refer to https://medium.com\"\n",
    "x = re.sub('http[s]?\\://','', text)\n",
    "x"
   ]
  },
  {
   "cell_type": "code",
   "execution_count": 52,
   "id": "506fd2c1",
   "metadata": {
    "scrolled": true
   },
   "outputs": [
    {
     "name": "stdout",
     "output_type": "stream",
     "text": [
      " \t AI adalah teknologi kunci\t\n"
     ]
    }
   ],
   "source": [
    "short_sentence = \" \\t AI adalah teknologi kunci\\t\"\n",
    "print(short_sentence)"
   ]
  },
  {
   "cell_type": "code",
   "execution_count": 53,
   "id": "c413e938",
   "metadata": {},
   "outputs": [
    {
     "name": "stdout",
     "output_type": "stream",
     "text": [
      "AI adalah teknologi kunci\n"
     ]
    }
   ],
   "source": [
    "no_strip = short_sentence.strip()\n",
    "print(no_strip)"
   ]
  }
 ],
 "metadata": {
  "kernelspec": {
   "display_name": "Python 3 (ipykernel)",
   "language": "python",
   "name": "python3"
  },
  "language_info": {
   "codemirror_mode": {
    "name": "ipython",
    "version": 3
   },
   "file_extension": ".py",
   "mimetype": "text/x-python",
   "name": "python",
   "nbconvert_exporter": "python",
   "pygments_lexer": "ipython3",
   "version": "3.8.0"
  }
 },
 "nbformat": 4,
 "nbformat_minor": 5
}
