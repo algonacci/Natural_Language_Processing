{
  "nbformat": 4,
  "nbformat_minor": 0,
  "metadata": {
    "colab": {
      "name": "TextProcessing_DeepLearning.ipynb",
      "provenance": [],
      "collapsed_sections": []
    },
    "kernelspec": {
      "name": "python3",
      "display_name": "Python 3"
    },
    "language_info": {
      "name": "python"
    }
  },
  "cells": [
    {
      "cell_type": "markdown",
      "source": [
        "### Import Libraries"
      ],
      "metadata": {
        "id": "bSsTwiPJvQSu"
      }
    },
    {
      "cell_type": "code",
      "execution_count": 1,
      "metadata": {
        "id": "z6Ub2PWLttJY"
      },
      "outputs": [],
      "source": [
        "import io\n",
        "import csv\n",
        "import tensorflow as tf\n",
        "import numpy as np\n",
        "from tensorflow.keras.preprocessing.text import Tokenizer\n",
        "from tensorflow.keras.preprocessing.sequence import pad_sequences\n",
        "import matplotlib.pyplot as plt"
      ]
    },
    {
      "cell_type": "code",
      "source": [
        "plt.rcParams.update({\n",
        "    \"lines.color\": \"white\",\n",
        "    \"patch.edgecolor\": \"white\",\n",
        "    \"text.color\": \"white\",\n",
        "    \"axes.facecolor\": \"black\",\n",
        "    \"axes.edgecolor\": \"white\",\n",
        "    \"axes.labelcolor\": \"white\",\n",
        "    \"xtick.color\": \"white\",\n",
        "    \"ytick.color\": \"white\",\n",
        "    \"grid.color\": \"grey\",\n",
        "    \"figure.facecolor\": \"black\",\n",
        "    \"figure.edgecolor\": \"black\",\n",
        "    \"savefig.facecolor\": \"black\",\n",
        "    \"savefig.edgecolor\": \"black\"})"
      ],
      "metadata": {
        "id": "4EHRZvh4vE4-"
      },
      "execution_count": 2,
      "outputs": []
    },
    {
      "cell_type": "markdown",
      "source": [
        "### Load Dataset"
      ],
      "metadata": {
        "id": "BbiqC8Ruvfnl"
      }
    },
    {
      "cell_type": "code",
      "source": [
        "with open(\"./bbc-text.csv\", 'r') as csvfile:\n",
        "    print(f\"First line (header) looks like this:\\n\\n{csvfile.readline()}\")\n",
        "    print(f\"Each data point looks like this:\\n\\n{csvfile.readline()}\")"
      ],
      "metadata": {
        "colab": {
          "base_uri": "https://localhost:8080/"
        },
        "id": "EJzXx9o2vefO",
        "outputId": "bc75e357-a594-4c66-a7a0-b3425cbeac9e"
      },
      "execution_count": 3,
      "outputs": [
        {
          "output_type": "stream",
          "name": "stdout",
          "text": [
            "First line (header) looks like this:\n",
            "\n",
            "category,text\n",
            "\n",
            "Each data point looks like this:\n",
            "\n",
            "tech,tv future in the hands of viewers with home theatre systems  plasma high-definition tvs  and digital video recorders moving into the living room  the way people watch tv will be radically different in five years  time.  that is according to an expert panel which gathered at the annual consumer electronics show in las vegas to discuss how these new technologies will impact one of our favourite pastimes. with the us leading the trend  programmes and other content will be delivered to viewers via home networks  through cable  satellite  telecoms companies  and broadband service providers to front rooms and portable devices.  one of the most talked-about technologies of ces has been digital and personal video recorders (dvr and pvr). these set-top boxes  like the us s tivo and the uk s sky+ system  allow people to record  store  play  pause and forward wind tv programmes when they want.  essentially  the technology allows for much more personalised tv. they are also being built-in to high-definition tv sets  which are big business in japan and the us  but slower to take off in europe because of the lack of high-definition programming. not only can people forward wind through adverts  they can also forget about abiding by network and channel schedules  putting together their own a-la-carte entertainment. but some us networks and cable and satellite companies are worried about what it means for them in terms of advertising revenues as well as  brand identity  and viewer loyalty to channels. although the us leads in this technology at the moment  it is also a concern that is being raised in europe  particularly with the growing uptake of services like sky+.  what happens here today  we will see in nine months to a years  time in the uk   adam hume  the bbc broadcast s futurologist told the bbc news website. for the likes of the bbc  there are no issues of lost advertising revenue yet. it is a more pressing issue at the moment for commercial uk broadcasters  but brand loyalty is important for everyone.  we will be talking more about content brands rather than network brands   said tim hanlon  from brand communications firm starcom mediavest.  the reality is that with broadband connections  anybody can be the producer of content.  he added:  the challenge now is that it is hard to promote a programme with so much choice.   what this means  said stacey jolna  senior vice president of tv guide tv group  is that the way people find the content they want to watch has to be simplified for tv viewers. it means that networks  in us terms  or channels could take a leaf out of google s book and be the search engine of the future  instead of the scheduler to help people find what they want to watch. this kind of channel model might work for the younger ipod generation which is used to taking control of their gadgets and what they play on them. but it might not suit everyone  the panel recognised. older generations are more comfortable with familiar schedules and channel brands because they know what they are getting. they perhaps do not want so much of the choice put into their hands  mr hanlon suggested.  on the other end  you have the kids just out of diapers who are pushing buttons already - everything is possible and available to them   said mr hanlon.  ultimately  the consumer will tell the market they want.   of the 50 000 new gadgets and technologies being showcased at ces  many of them are about enhancing the tv-watching experience. high-definition tv sets are everywhere and many new models of lcd (liquid crystal display) tvs have been launched with dvr capability built into them  instead of being external boxes. one such example launched at the show is humax s 26-inch lcd tv with an 80-hour tivo dvr and dvd recorder. one of the us s biggest satellite tv companies  directtv  has even launched its own branded dvr at the show with 100-hours of recording capability  instant replay  and a search function. the set can pause and rewind tv for up to 90 hours. and microsoft chief bill gates announced in his pre-show keynote speech a partnership with tivo  called tivotogo  which means people can play recorded programmes on windows pcs and mobile devices. all these reflect the increasing trend of freeing up multimedia so that people can watch what they want  when they want.\n",
            "\n"
          ]
        }
      ]
    },
    {
      "cell_type": "markdown",
      "source": [
        "### Defining Global Variables"
      ],
      "metadata": {
        "id": "t_aPVkCgwGwT"
      }
    },
    {
      "cell_type": "code",
      "source": [
        "NUM_WORDS = 1000\n",
        "EMBEDDING_DIM = 16\n",
        "MAXLEN = 120\n",
        "PADDING = 'post'\n",
        "OOV_TOKEN = \"<OOV>\"\n",
        "TRAINING_SPLIT = .8"
      ],
      "metadata": {
        "id": "0rvDLcjHwEW7"
      },
      "execution_count": 4,
      "outputs": []
    },
    {
      "cell_type": "markdown",
      "source": [
        "### Data Pre-processing"
      ],
      "metadata": {
        "id": "UTbxu7oNwNWi"
      }
    },
    {
      "cell_type": "code",
      "source": [
        "def remove_stopwords(sentence):\n",
        "    stopwords = [\"a\", \"about\", \"above\", \"after\", \"again\", \"against\", \"all\", \"am\", \"an\", \"and\", \"any\", \"are\", \"as\", \"at\", \"be\", \"because\", \"been\", \"before\", \"being\", \"below\", \"between\", \"both\", \"but\", \"by\", \"could\", \"did\", \"do\", \"does\", \"doing\", \"down\", \"during\", \"each\", \"few\", \"for\", \"from\", \"further\", \"had\", \"has\", \"have\", \"having\", \"he\", \"he'd\", \"he'll\", \"he's\", \"her\", \"here\", \"here's\", \"hers\", \"herself\", \"him\", \"himself\", \"his\", \"how\", \"how's\", \"i\", \"i'd\", \"i'll\", \"i'm\", \"i've\", \"if\", \"in\", \"into\", \"is\", \"it\", \"it's\", \"its\", \"itself\", \"let's\", \"me\", \"more\", \"most\", \"my\", \"myself\", \"nor\", \"of\", \"on\", \"once\", \"only\", \"or\", \"other\", \"ought\", \"our\", \"ours\", \"ourselves\", \"out\", \"over\", \"own\", \"same\", \"she\", \"she'd\", \"she'll\", \"she's\", \"should\", \"so\", \"some\", \"such\", \"than\", \"that\", \"that's\", \"the\", \"their\", \"theirs\", \"them\", \"themselves\", \"then\", \"there\", \"there's\", \"these\", \"they\", \"they'd\", \"they'll\", \"they're\", \"they've\", \"this\", \"those\", \"through\", \"to\", \"too\", \"under\", \"until\", \"up\", \"very\", \"was\", \"we\", \"we'd\", \"we'll\", \"we're\", \"we've\", \"were\", \"what\", \"what's\", \"when\", \"when's\", \"where\", \"where's\", \"which\", \"while\", \"who\", \"who's\", \"whom\", \"why\", \"why's\", \"with\", \"would\", \"you\", \"you'd\", \"you'll\", \"you're\", \"you've\", \"your\", \"yours\", \"yourself\", \"yourselves\" ]\n",
        "    \n",
        "    sentence = sentence.lower()\n",
        "\n",
        "    words = sentence.split()\n",
        "    no_words = [w for w in words if w not in stopwords]\n",
        "    sentence = \" \".join(no_words)\n",
        "\n",
        "    return sentence"
      ],
      "metadata": {
        "id": "dtcua4hcwO3S"
      },
      "execution_count": 5,
      "outputs": []
    },
    {
      "cell_type": "code",
      "source": [
        "def parse_data_from_file(filename):\n",
        "    sentences = []\n",
        "    labels = []\n",
        "    with open(filename, 'r') as csvfile:\n",
        "        reader = csv.reader(csvfile, delimiter=',')\n",
        "        next(reader)\n",
        "        for row in reader:\n",
        "            labels.append(row[0])\n",
        "            sentence = row[1]\n",
        "            sentence = remove_stopwords(sentence)\n",
        "            sentences.append(sentence)\n",
        "\n",
        "    return sentences, labels"
      ],
      "metadata": {
        "id": "vo2nvI5QwSya"
      },
      "execution_count": 6,
      "outputs": []
    },
    {
      "cell_type": "code",
      "source": [
        "sentences, labels = parse_data_from_file(\"./bbc-text.csv\")\n",
        "\n",
        "print(f\"There are {len(sentences)} sentences in the dataset.\\n\")\n",
        "print(f\"First sentence has {len(sentences[0].split())} words (after removing stopwords).\\n\")\n",
        "print(f\"There are {len(labels)} labels in the dataset.\\n\")\n",
        "print(f\"The first 5 labels are {labels[:5]}\")"
      ],
      "metadata": {
        "colab": {
          "base_uri": "https://localhost:8080/"
        },
        "id": "Qc0gqHSfwVFa",
        "outputId": "cb0e657d-914b-436a-d813-c1c689f4754f"
      },
      "execution_count": 7,
      "outputs": [
        {
          "output_type": "stream",
          "name": "stdout",
          "text": [
            "There are 2225 sentences in the dataset.\n",
            "\n",
            "First sentence has 436 words (after removing stopwords).\n",
            "\n",
            "There are 2225 labels in the dataset.\n",
            "\n",
            "The first 5 labels are ['tech', 'business', 'sport', 'sport', 'entertainment']\n"
          ]
        }
      ]
    },
    {
      "cell_type": "markdown",
      "source": [
        "### Data Splitting"
      ],
      "metadata": {
        "id": "ox4zCY9hwihB"
      }
    },
    {
      "cell_type": "code",
      "source": [
        "def train_val_split(sentences, labels, training_split):\n",
        "    train_size = int(len(sentences) * training_split)\n",
        "\n",
        "    train_sentences = sentences[:train_size]\n",
        "    train_labels = labels[:train_size]\n",
        "\n",
        "    validation_sentences = sentences[train_size:]\n",
        "    validation_labels = labels[train_size:]\n",
        "    \n",
        "    return train_sentences, validation_sentences, train_labels, validation_labels"
      ],
      "metadata": {
        "id": "dJLNHpglwgjy"
      },
      "execution_count": 8,
      "outputs": []
    },
    {
      "cell_type": "code",
      "source": [
        "train_sentences, val_sentences, train_labels, val_labels = train_val_split(sentences, labels, TRAINING_SPLIT)\n",
        "\n",
        "print(f\"There are {len(train_sentences)} sentences for training.\\n\")\n",
        "print(f\"There are {len(train_labels)} labels for training.\\n\")\n",
        "print(f\"There are {len(val_sentences)} sentences for validation.\\n\")\n",
        "print(f\"There are {len(val_labels)} labels for validation.\")"
      ],
      "metadata": {
        "colab": {
          "base_uri": "https://localhost:8080/"
        },
        "id": "SARk8CDLwugx",
        "outputId": "84ee8cc0-05ad-4180-9e39-2baf740b46ea"
      },
      "execution_count": 9,
      "outputs": [
        {
          "output_type": "stream",
          "name": "stdout",
          "text": [
            "There are 1780 sentences for training.\n",
            "\n",
            "There are 1780 labels for training.\n",
            "\n",
            "There are 445 sentences for validation.\n",
            "\n",
            "There are 445 labels for validation.\n"
          ]
        }
      ]
    },
    {
      "cell_type": "markdown",
      "source": [
        "### Tokenization, Sequences, and Padding"
      ],
      "metadata": {
        "id": "m3jMY780wzGy"
      }
    },
    {
      "cell_type": "code",
      "source": [
        "def fit_tokenizer(train_sentences, num_words, oov_token):\n",
        "    # Instantiate the Tokenizer class, passing in the correct values for num_words and oov_token\n",
        "    tokenizer = Tokenizer(num_words=1000, oov_token=\"<OOV>\")\n",
        "    \n",
        "    # Fit the tokenizer to the training sentences\n",
        "    tokenizer.fit_on_texts(train_sentences)\n",
        "    \n",
        "    return tokenizer"
      ],
      "metadata": {
        "id": "2fu5KWaRw9GJ"
      },
      "execution_count": 10,
      "outputs": []
    },
    {
      "cell_type": "code",
      "source": [
        "tokenizer = fit_tokenizer(train_sentences, NUM_WORDS, OOV_TOKEN)\n",
        "word_index = tokenizer.word_index\n",
        "\n",
        "print(f\"Vocabulary contains {len(word_index)} words\\n\")\n",
        "print(\"<OOV> token included in vocabulary\" if \"<OOV>\" in word_index else \"<OOV> token NOT included in vocabulary\")"
      ],
      "metadata": {
        "colab": {
          "base_uri": "https://localhost:8080/"
        },
        "id": "RkfEHSkhxCsY",
        "outputId": "5b9f5138-36e8-4353-acbb-7416d1f795a6"
      },
      "execution_count": 11,
      "outputs": [
        {
          "output_type": "stream",
          "name": "stdout",
          "text": [
            "Vocabulary contains 27285 words\n",
            "\n",
            "<OOV> token included in vocabulary\n"
          ]
        }
      ]
    },
    {
      "cell_type": "code",
      "source": [
        "# GRADED FUNCTION: seq_and_pad\n",
        "def seq_and_pad(sentences, tokenizer, padding, maxlen):\n",
        "    # Convert sentences to sequences\n",
        "    sequences = tokenizer.texts_to_sequences(sentences)\n",
        "    \n",
        "    # Pad the sequences using the correct padding and maxlen\n",
        "    padded_sequences = pad_sequences(sequences, maxlen=120)\n",
        "    \n",
        "    return padded_sequences"
      ],
      "metadata": {
        "id": "I3aZ4GY_xLzg"
      },
      "execution_count": 12,
      "outputs": []
    },
    {
      "cell_type": "code",
      "source": [
        "train_padded_seq = seq_and_pad(train_sentences, tokenizer, PADDING, MAXLEN)\n",
        "val_padded_seq = seq_and_pad(val_sentences, tokenizer, PADDING, MAXLEN)\n",
        "\n",
        "print(f\"Padded training sequences have shape: {train_padded_seq.shape}\\n\")\n",
        "print(f\"Padded validation sequences have shape: {val_padded_seq.shape}\")"
      ],
      "metadata": {
        "colab": {
          "base_uri": "https://localhost:8080/"
        },
        "id": "UIzPn0LfxV_P",
        "outputId": "1756d06b-4ea8-4556-b869-55126e35db0b"
      },
      "execution_count": 13,
      "outputs": [
        {
          "output_type": "stream",
          "name": "stdout",
          "text": [
            "Padded training sequences have shape: (1780, 120)\n",
            "\n",
            "Padded validation sequences have shape: (445, 120)\n"
          ]
        }
      ]
    },
    {
      "cell_type": "code",
      "source": [
        "def tokenize_labels(all_labels, split_labels):    \n",
        "    # Instantiate the Tokenizer (no additional arguments needed)\n",
        "    label_tokenizer = Tokenizer()\n",
        "    \n",
        "    # Fit the tokenizer on all the labels\n",
        "    label_tokenizer.fit_on_texts(all_labels)\n",
        "    \n",
        "    # Convert labels to sequences\n",
        "    label_seq = label_tokenizer.texts_to_sequences(split_labels)\n",
        "    \n",
        "    # Convert sequences to a numpy array. Don't forget to substact 1 from every entry in the array!\n",
        "    label_seq_np = np.array(label_seq)-1\n",
        "    \n",
        "    return label_seq_np"
      ],
      "metadata": {
        "id": "Sn3djj7PxbiO"
      },
      "execution_count": 14,
      "outputs": []
    },
    {
      "cell_type": "code",
      "source": [
        "train_label_seq = tokenize_labels(labels, train_labels)\n",
        "val_label_seq = tokenize_labels(labels, val_labels)\n",
        "\n",
        "print(f\"First 5 labels of the training set should look like this:\\n{train_label_seq[:5]}\\n\")\n",
        "print(f\"First 5 labels of the validation set should look like this:\\n{val_label_seq[:5]}\\n\")\n",
        "print(f\"Tokenized labels of the training set have shape: {train_label_seq.shape}\\n\")\n",
        "print(f\"Tokenized labels of the validation set have shape: {val_label_seq.shape}\\n\")"
      ],
      "metadata": {
        "colab": {
          "base_uri": "https://localhost:8080/"
        },
        "id": "zmB4jfuRxmWu",
        "outputId": "e7557c47-21c7-4178-ef3a-5b85ee2ebd00"
      },
      "execution_count": 15,
      "outputs": [
        {
          "output_type": "stream",
          "name": "stdout",
          "text": [
            "First 5 labels of the training set should look like this:\n",
            "[[3]\n",
            " [1]\n",
            " [0]\n",
            " [0]\n",
            " [4]]\n",
            "\n",
            "First 5 labels of the validation set should look like this:\n",
            "[[4]\n",
            " [3]\n",
            " [2]\n",
            " [0]\n",
            " [0]]\n",
            "\n",
            "Tokenized labels of the training set have shape: (1780, 1)\n",
            "\n",
            "Tokenized labels of the validation set have shape: (445, 1)\n",
            "\n"
          ]
        }
      ]
    },
    {
      "cell_type": "markdown",
      "source": [
        "### Model Building"
      ],
      "metadata": {
        "id": "O4djh4Rrxs_X"
      }
    },
    {
      "cell_type": "code",
      "source": [
        "def create_model(num_words, embedding_dim, maxlen):\n",
        "    \n",
        "    tf.random.set_seed(123)\n",
        "        \n",
        "    model = tf.keras.Sequential([ \n",
        "        tf.keras.layers.Embedding(num_words, embedding_dim, input_length=maxlen),\n",
        "        tf.keras.layers.GlobalAveragePooling1D(),\n",
        "        tf.keras.layers.Dense(32, activation='relu'),\n",
        "        tf.keras.layers.Dense(5, activation='softmax')\n",
        "    ])\n",
        "    \n",
        "    model.compile(loss='sparse_categorical_crossentropy',\n",
        "                  optimizer='adam',\n",
        "                  metrics=['accuracy']) \n",
        "\n",
        "    return model"
      ],
      "metadata": {
        "id": "KuN29cHIxpb9"
      },
      "execution_count": 16,
      "outputs": []
    },
    {
      "cell_type": "code",
      "source": [
        "model = create_model(NUM_WORDS, EMBEDDING_DIM, MAXLEN)\n",
        "\n",
        "callback = tf.keras.callbacks.ReduceLROnPlateau(\n",
        "    monitor='val_accuracy',\n",
        "    factor=0.1,\n",
        "    patience=10,\n",
        "    verbose=0,\n",
        "    mode='auto',\n",
        "    min_delta=0.0001,\n",
        "    cooldown=0,\n",
        "    min_lr=0\n",
        ")\n",
        "\n",
        "history = model.fit(train_padded_seq, train_label_seq, epochs=100,\n",
        "                    validation_data=(val_padded_seq, val_label_seq),\n",
        "                    callbacks=[callback])"
      ],
      "metadata": {
        "colab": {
          "base_uri": "https://localhost:8080/"
        },
        "id": "5sotWiP8x45s",
        "outputId": "06e02b0c-a852-4d82-9501-345210a1a0e4"
      },
      "execution_count": 18,
      "outputs": [
        {
          "output_type": "stream",
          "name": "stdout",
          "text": [
            "Epoch 1/100\n",
            "56/56 [==============================] - 1s 6ms/step - loss: 1.5995 - accuracy: 0.2567 - val_loss: 1.5854 - val_accuracy: 0.4472 - lr: 0.0010\n",
            "Epoch 2/100\n",
            "56/56 [==============================] - 0s 4ms/step - loss: 1.5559 - accuracy: 0.4169 - val_loss: 1.5176 - val_accuracy: 0.4382 - lr: 0.0010\n",
            "Epoch 3/100\n",
            "56/56 [==============================] - 0s 4ms/step - loss: 1.4388 - accuracy: 0.5028 - val_loss: 1.3589 - val_accuracy: 0.5640 - lr: 0.0010\n",
            "Epoch 4/100\n",
            "56/56 [==============================] - 0s 4ms/step - loss: 1.2207 - accuracy: 0.6404 - val_loss: 1.1154 - val_accuracy: 0.7079 - lr: 0.0010\n",
            "Epoch 5/100\n",
            "56/56 [==============================] - 0s 4ms/step - loss: 0.9517 - accuracy: 0.7747 - val_loss: 0.8664 - val_accuracy: 0.8247 - lr: 0.0010\n",
            "Epoch 6/100\n",
            "56/56 [==============================] - 0s 4ms/step - loss: 0.7035 - accuracy: 0.8826 - val_loss: 0.6579 - val_accuracy: 0.8989 - lr: 0.0010\n",
            "Epoch 7/100\n",
            "56/56 [==============================] - 0s 4ms/step - loss: 0.5136 - accuracy: 0.9410 - val_loss: 0.5105 - val_accuracy: 0.9169 - lr: 0.0010\n",
            "Epoch 8/100\n",
            "56/56 [==============================] - 0s 4ms/step - loss: 0.3835 - accuracy: 0.9534 - val_loss: 0.4119 - val_accuracy: 0.9213 - lr: 0.0010\n",
            "Epoch 9/100\n",
            "56/56 [==============================] - 0s 4ms/step - loss: 0.2963 - accuracy: 0.9612 - val_loss: 0.3541 - val_accuracy: 0.9213 - lr: 0.0010\n",
            "Epoch 10/100\n",
            "56/56 [==============================] - 0s 4ms/step - loss: 0.2353 - accuracy: 0.9702 - val_loss: 0.3038 - val_accuracy: 0.9258 - lr: 0.0010\n",
            "Epoch 11/100\n",
            "56/56 [==============================] - 0s 4ms/step - loss: 0.1930 - accuracy: 0.9742 - val_loss: 0.2747 - val_accuracy: 0.9303 - lr: 0.0010\n",
            "Epoch 12/100\n",
            "56/56 [==============================] - 0s 4ms/step - loss: 0.1620 - accuracy: 0.9753 - val_loss: 0.2527 - val_accuracy: 0.9326 - lr: 0.0010\n",
            "Epoch 13/100\n",
            "56/56 [==============================] - 0s 4ms/step - loss: 0.1383 - accuracy: 0.9781 - val_loss: 0.2375 - val_accuracy: 0.9326 - lr: 0.0010\n",
            "Epoch 14/100\n",
            "56/56 [==============================] - 0s 5ms/step - loss: 0.1186 - accuracy: 0.9803 - val_loss: 0.2248 - val_accuracy: 0.9326 - lr: 0.0010\n",
            "Epoch 15/100\n",
            "56/56 [==============================] - 0s 5ms/step - loss: 0.1029 - accuracy: 0.9831 - val_loss: 0.2112 - val_accuracy: 0.9348 - lr: 0.0010\n",
            "Epoch 16/100\n",
            "56/56 [==============================] - 0s 4ms/step - loss: 0.0897 - accuracy: 0.9871 - val_loss: 0.2024 - val_accuracy: 0.9303 - lr: 0.0010\n",
            "Epoch 17/100\n",
            "56/56 [==============================] - 0s 4ms/step - loss: 0.0785 - accuracy: 0.9904 - val_loss: 0.1959 - val_accuracy: 0.9371 - lr: 0.0010\n",
            "Epoch 18/100\n",
            "56/56 [==============================] - 0s 4ms/step - loss: 0.0693 - accuracy: 0.9916 - val_loss: 0.1925 - val_accuracy: 0.9371 - lr: 0.0010\n",
            "Epoch 19/100\n",
            "56/56 [==============================] - 0s 5ms/step - loss: 0.0614 - accuracy: 0.9961 - val_loss: 0.1869 - val_accuracy: 0.9371 - lr: 0.0010\n",
            "Epoch 20/100\n",
            "56/56 [==============================] - 0s 5ms/step - loss: 0.0537 - accuracy: 0.9966 - val_loss: 0.1827 - val_accuracy: 0.9416 - lr: 0.0010\n",
            "Epoch 21/100\n",
            "56/56 [==============================] - 0s 5ms/step - loss: 0.0482 - accuracy: 0.9966 - val_loss: 0.1831 - val_accuracy: 0.9393 - lr: 0.0010\n",
            "Epoch 22/100\n",
            "56/56 [==============================] - 0s 4ms/step - loss: 0.0428 - accuracy: 0.9978 - val_loss: 0.1768 - val_accuracy: 0.9438 - lr: 0.0010\n",
            "Epoch 23/100\n",
            "56/56 [==============================] - 0s 4ms/step - loss: 0.0381 - accuracy: 0.9978 - val_loss: 0.1773 - val_accuracy: 0.9416 - lr: 0.0010\n",
            "Epoch 24/100\n",
            "56/56 [==============================] - 0s 4ms/step - loss: 0.0339 - accuracy: 0.9989 - val_loss: 0.1734 - val_accuracy: 0.9416 - lr: 0.0010\n",
            "Epoch 25/100\n",
            "56/56 [==============================] - 0s 4ms/step - loss: 0.0304 - accuracy: 0.9989 - val_loss: 0.1732 - val_accuracy: 0.9416 - lr: 0.0010\n",
            "Epoch 26/100\n",
            "56/56 [==============================] - 0s 4ms/step - loss: 0.0271 - accuracy: 0.9989 - val_loss: 0.1729 - val_accuracy: 0.9416 - lr: 0.0010\n",
            "Epoch 27/100\n",
            "56/56 [==============================] - 0s 4ms/step - loss: 0.0245 - accuracy: 0.9989 - val_loss: 0.1751 - val_accuracy: 0.9393 - lr: 0.0010\n",
            "Epoch 28/100\n",
            "56/56 [==============================] - 0s 4ms/step - loss: 0.0220 - accuracy: 0.9989 - val_loss: 0.1704 - val_accuracy: 0.9438 - lr: 0.0010\n",
            "Epoch 29/100\n",
            "56/56 [==============================] - 0s 4ms/step - loss: 0.0198 - accuracy: 0.9989 - val_loss: 0.1721 - val_accuracy: 0.9416 - lr: 0.0010\n",
            "Epoch 30/100\n",
            "56/56 [==============================] - 0s 3ms/step - loss: 0.0180 - accuracy: 1.0000 - val_loss: 0.1697 - val_accuracy: 0.9461 - lr: 0.0010\n",
            "Epoch 31/100\n",
            "56/56 [==============================] - 0s 4ms/step - loss: 0.0162 - accuracy: 1.0000 - val_loss: 0.1716 - val_accuracy: 0.9438 - lr: 0.0010\n",
            "Epoch 32/100\n",
            "56/56 [==============================] - 0s 5ms/step - loss: 0.0147 - accuracy: 1.0000 - val_loss: 0.1708 - val_accuracy: 0.9416 - lr: 0.0010\n",
            "Epoch 33/100\n",
            "56/56 [==============================] - 0s 4ms/step - loss: 0.0135 - accuracy: 1.0000 - val_loss: 0.1713 - val_accuracy: 0.9416 - lr: 0.0010\n",
            "Epoch 34/100\n",
            "56/56 [==============================] - 0s 4ms/step - loss: 0.0123 - accuracy: 1.0000 - val_loss: 0.1699 - val_accuracy: 0.9461 - lr: 0.0010\n",
            "Epoch 35/100\n",
            "56/56 [==============================] - 0s 4ms/step - loss: 0.0113 - accuracy: 1.0000 - val_loss: 0.1717 - val_accuracy: 0.9416 - lr: 0.0010\n",
            "Epoch 36/100\n",
            "56/56 [==============================] - 0s 5ms/step - loss: 0.0103 - accuracy: 1.0000 - val_loss: 0.1712 - val_accuracy: 0.9461 - lr: 0.0010\n",
            "Epoch 37/100\n",
            "56/56 [==============================] - 0s 4ms/step - loss: 0.0095 - accuracy: 1.0000 - val_loss: 0.1714 - val_accuracy: 0.9461 - lr: 0.0010\n",
            "Epoch 38/100\n",
            "56/56 [==============================] - 0s 4ms/step - loss: 0.0088 - accuracy: 1.0000 - val_loss: 0.1721 - val_accuracy: 0.9438 - lr: 0.0010\n",
            "Epoch 39/100\n",
            "56/56 [==============================] - 0s 4ms/step - loss: 0.0081 - accuracy: 1.0000 - val_loss: 0.1720 - val_accuracy: 0.9438 - lr: 0.0010\n",
            "Epoch 40/100\n",
            "56/56 [==============================] - 0s 4ms/step - loss: 0.0075 - accuracy: 1.0000 - val_loss: 0.1735 - val_accuracy: 0.9438 - lr: 0.0010\n",
            "Epoch 41/100\n",
            "56/56 [==============================] - 0s 4ms/step - loss: 0.0071 - accuracy: 1.0000 - val_loss: 0.1735 - val_accuracy: 0.9461 - lr: 1.0000e-04\n",
            "Epoch 42/100\n",
            "56/56 [==============================] - 0s 4ms/step - loss: 0.0070 - accuracy: 1.0000 - val_loss: 0.1736 - val_accuracy: 0.9438 - lr: 1.0000e-04\n",
            "Epoch 43/100\n",
            "56/56 [==============================] - 0s 4ms/step - loss: 0.0069 - accuracy: 1.0000 - val_loss: 0.1735 - val_accuracy: 0.9461 - lr: 1.0000e-04\n",
            "Epoch 44/100\n",
            "56/56 [==============================] - 0s 5ms/step - loss: 0.0069 - accuracy: 1.0000 - val_loss: 0.1736 - val_accuracy: 0.9438 - lr: 1.0000e-04\n",
            "Epoch 45/100\n",
            "56/56 [==============================] - 0s 5ms/step - loss: 0.0068 - accuracy: 1.0000 - val_loss: 0.1736 - val_accuracy: 0.9438 - lr: 1.0000e-04\n",
            "Epoch 46/100\n",
            "56/56 [==============================] - 0s 4ms/step - loss: 0.0068 - accuracy: 1.0000 - val_loss: 0.1736 - val_accuracy: 0.9416 - lr: 1.0000e-04\n",
            "Epoch 47/100\n",
            "56/56 [==============================] - 0s 4ms/step - loss: 0.0067 - accuracy: 1.0000 - val_loss: 0.1738 - val_accuracy: 0.9416 - lr: 1.0000e-04\n",
            "Epoch 48/100\n",
            "56/56 [==============================] - 0s 4ms/step - loss: 0.0067 - accuracy: 1.0000 - val_loss: 0.1738 - val_accuracy: 0.9416 - lr: 1.0000e-04\n",
            "Epoch 49/100\n",
            "56/56 [==============================] - 0s 4ms/step - loss: 0.0066 - accuracy: 1.0000 - val_loss: 0.1738 - val_accuracy: 0.9416 - lr: 1.0000e-04\n",
            "Epoch 50/100\n",
            "56/56 [==============================] - 0s 4ms/step - loss: 0.0065 - accuracy: 1.0000 - val_loss: 0.1739 - val_accuracy: 0.9416 - lr: 1.0000e-04\n",
            "Epoch 51/100\n",
            "56/56 [==============================] - 0s 4ms/step - loss: 0.0065 - accuracy: 1.0000 - val_loss: 0.1739 - val_accuracy: 0.9416 - lr: 1.0000e-05\n",
            "Epoch 52/100\n",
            "56/56 [==============================] - 0s 4ms/step - loss: 0.0065 - accuracy: 1.0000 - val_loss: 0.1739 - val_accuracy: 0.9416 - lr: 1.0000e-05\n",
            "Epoch 53/100\n",
            "56/56 [==============================] - 0s 4ms/step - loss: 0.0065 - accuracy: 1.0000 - val_loss: 0.1739 - val_accuracy: 0.9416 - lr: 1.0000e-05\n",
            "Epoch 54/100\n",
            "56/56 [==============================] - 0s 4ms/step - loss: 0.0065 - accuracy: 1.0000 - val_loss: 0.1739 - val_accuracy: 0.9416 - lr: 1.0000e-05\n",
            "Epoch 55/100\n",
            "56/56 [==============================] - 0s 4ms/step - loss: 0.0065 - accuracy: 1.0000 - val_loss: 0.1739 - val_accuracy: 0.9416 - lr: 1.0000e-05\n",
            "Epoch 56/100\n",
            "56/56 [==============================] - 0s 5ms/step - loss: 0.0065 - accuracy: 1.0000 - val_loss: 0.1740 - val_accuracy: 0.9416 - lr: 1.0000e-05\n",
            "Epoch 57/100\n",
            "56/56 [==============================] - 0s 5ms/step - loss: 0.0065 - accuracy: 1.0000 - val_loss: 0.1739 - val_accuracy: 0.9416 - lr: 1.0000e-05\n",
            "Epoch 58/100\n",
            "56/56 [==============================] - 0s 4ms/step - loss: 0.0065 - accuracy: 1.0000 - val_loss: 0.1740 - val_accuracy: 0.9416 - lr: 1.0000e-05\n",
            "Epoch 59/100\n",
            "56/56 [==============================] - 0s 5ms/step - loss: 0.0064 - accuracy: 1.0000 - val_loss: 0.1740 - val_accuracy: 0.9416 - lr: 1.0000e-05\n",
            "Epoch 60/100\n",
            "56/56 [==============================] - 0s 4ms/step - loss: 0.0064 - accuracy: 1.0000 - val_loss: 0.1740 - val_accuracy: 0.9416 - lr: 1.0000e-05\n",
            "Epoch 61/100\n",
            "56/56 [==============================] - 0s 5ms/step - loss: 0.0064 - accuracy: 1.0000 - val_loss: 0.1740 - val_accuracy: 0.9416 - lr: 1.0000e-06\n",
            "Epoch 62/100\n",
            "56/56 [==============================] - 0s 5ms/step - loss: 0.0064 - accuracy: 1.0000 - val_loss: 0.1740 - val_accuracy: 0.9416 - lr: 1.0000e-06\n",
            "Epoch 63/100\n",
            "56/56 [==============================] - 0s 5ms/step - loss: 0.0064 - accuracy: 1.0000 - val_loss: 0.1740 - val_accuracy: 0.9416 - lr: 1.0000e-06\n",
            "Epoch 64/100\n",
            "56/56 [==============================] - 0s 4ms/step - loss: 0.0064 - accuracy: 1.0000 - val_loss: 0.1740 - val_accuracy: 0.9416 - lr: 1.0000e-06\n",
            "Epoch 65/100\n",
            "56/56 [==============================] - 0s 4ms/step - loss: 0.0064 - accuracy: 1.0000 - val_loss: 0.1740 - val_accuracy: 0.9416 - lr: 1.0000e-06\n",
            "Epoch 66/100\n",
            "56/56 [==============================] - 0s 4ms/step - loss: 0.0064 - accuracy: 1.0000 - val_loss: 0.1740 - val_accuracy: 0.9416 - lr: 1.0000e-06\n",
            "Epoch 67/100\n",
            "56/56 [==============================] - 0s 4ms/step - loss: 0.0064 - accuracy: 1.0000 - val_loss: 0.1740 - val_accuracy: 0.9416 - lr: 1.0000e-06\n",
            "Epoch 68/100\n",
            "56/56 [==============================] - 0s 5ms/step - loss: 0.0064 - accuracy: 1.0000 - val_loss: 0.1740 - val_accuracy: 0.9416 - lr: 1.0000e-06\n",
            "Epoch 69/100\n",
            "56/56 [==============================] - 0s 4ms/step - loss: 0.0064 - accuracy: 1.0000 - val_loss: 0.1740 - val_accuracy: 0.9416 - lr: 1.0000e-06\n",
            "Epoch 70/100\n",
            "56/56 [==============================] - 0s 4ms/step - loss: 0.0064 - accuracy: 1.0000 - val_loss: 0.1740 - val_accuracy: 0.9416 - lr: 1.0000e-06\n",
            "Epoch 71/100\n",
            "56/56 [==============================] - 0s 5ms/step - loss: 0.0064 - accuracy: 1.0000 - val_loss: 0.1740 - val_accuracy: 0.9416 - lr: 1.0000e-07\n",
            "Epoch 72/100\n",
            "56/56 [==============================] - 0s 5ms/step - loss: 0.0064 - accuracy: 1.0000 - val_loss: 0.1740 - val_accuracy: 0.9416 - lr: 1.0000e-07\n",
            "Epoch 73/100\n",
            "56/56 [==============================] - 0s 5ms/step - loss: 0.0064 - accuracy: 1.0000 - val_loss: 0.1740 - val_accuracy: 0.9416 - lr: 1.0000e-07\n",
            "Epoch 74/100\n",
            "56/56 [==============================] - 0s 4ms/step - loss: 0.0064 - accuracy: 1.0000 - val_loss: 0.1740 - val_accuracy: 0.9416 - lr: 1.0000e-07\n",
            "Epoch 75/100\n",
            "56/56 [==============================] - 0s 4ms/step - loss: 0.0064 - accuracy: 1.0000 - val_loss: 0.1740 - val_accuracy: 0.9416 - lr: 1.0000e-07\n",
            "Epoch 76/100\n",
            "56/56 [==============================] - 0s 4ms/step - loss: 0.0064 - accuracy: 1.0000 - val_loss: 0.1740 - val_accuracy: 0.9416 - lr: 1.0000e-07\n",
            "Epoch 77/100\n",
            "56/56 [==============================] - 0s 4ms/step - loss: 0.0064 - accuracy: 1.0000 - val_loss: 0.1740 - val_accuracy: 0.9416 - lr: 1.0000e-07\n",
            "Epoch 78/100\n",
            "56/56 [==============================] - 0s 4ms/step - loss: 0.0064 - accuracy: 1.0000 - val_loss: 0.1740 - val_accuracy: 0.9416 - lr: 1.0000e-07\n",
            "Epoch 79/100\n",
            "56/56 [==============================] - 0s 4ms/step - loss: 0.0064 - accuracy: 1.0000 - val_loss: 0.1740 - val_accuracy: 0.9416 - lr: 1.0000e-07\n",
            "Epoch 80/100\n",
            "56/56 [==============================] - 0s 4ms/step - loss: 0.0064 - accuracy: 1.0000 - val_loss: 0.1740 - val_accuracy: 0.9416 - lr: 1.0000e-07\n",
            "Epoch 81/100\n",
            "56/56 [==============================] - 0s 4ms/step - loss: 0.0064 - accuracy: 1.0000 - val_loss: 0.1740 - val_accuracy: 0.9416 - lr: 1.0000e-08\n",
            "Epoch 82/100\n",
            "56/56 [==============================] - 0s 3ms/step - loss: 0.0064 - accuracy: 1.0000 - val_loss: 0.1740 - val_accuracy: 0.9416 - lr: 1.0000e-08\n",
            "Epoch 83/100\n",
            "56/56 [==============================] - 0s 4ms/step - loss: 0.0064 - accuracy: 1.0000 - val_loss: 0.1740 - val_accuracy: 0.9416 - lr: 1.0000e-08\n",
            "Epoch 84/100\n",
            "56/56 [==============================] - 0s 4ms/step - loss: 0.0064 - accuracy: 1.0000 - val_loss: 0.1740 - val_accuracy: 0.9416 - lr: 1.0000e-08\n",
            "Epoch 85/100\n",
            "56/56 [==============================] - 0s 4ms/step - loss: 0.0064 - accuracy: 1.0000 - val_loss: 0.1740 - val_accuracy: 0.9416 - lr: 1.0000e-08\n",
            "Epoch 86/100\n",
            "56/56 [==============================] - 0s 4ms/step - loss: 0.0064 - accuracy: 1.0000 - val_loss: 0.1740 - val_accuracy: 0.9416 - lr: 1.0000e-08\n",
            "Epoch 87/100\n",
            "56/56 [==============================] - 0s 4ms/step - loss: 0.0064 - accuracy: 1.0000 - val_loss: 0.1740 - val_accuracy: 0.9416 - lr: 1.0000e-08\n",
            "Epoch 88/100\n",
            "56/56 [==============================] - 0s 4ms/step - loss: 0.0064 - accuracy: 1.0000 - val_loss: 0.1740 - val_accuracy: 0.9416 - lr: 1.0000e-08\n",
            "Epoch 89/100\n",
            "56/56 [==============================] - 0s 5ms/step - loss: 0.0064 - accuracy: 1.0000 - val_loss: 0.1740 - val_accuracy: 0.9416 - lr: 1.0000e-08\n",
            "Epoch 90/100\n",
            "56/56 [==============================] - 0s 5ms/step - loss: 0.0064 - accuracy: 1.0000 - val_loss: 0.1740 - val_accuracy: 0.9416 - lr: 1.0000e-08\n",
            "Epoch 91/100\n",
            "56/56 [==============================] - 0s 5ms/step - loss: 0.0064 - accuracy: 1.0000 - val_loss: 0.1740 - val_accuracy: 0.9416 - lr: 1.0000e-09\n",
            "Epoch 92/100\n",
            "56/56 [==============================] - 0s 5ms/step - loss: 0.0064 - accuracy: 1.0000 - val_loss: 0.1740 - val_accuracy: 0.9416 - lr: 1.0000e-09\n",
            "Epoch 93/100\n",
            "56/56 [==============================] - 0s 4ms/step - loss: 0.0064 - accuracy: 1.0000 - val_loss: 0.1740 - val_accuracy: 0.9416 - lr: 1.0000e-09\n",
            "Epoch 94/100\n",
            "56/56 [==============================] - 0s 5ms/step - loss: 0.0064 - accuracy: 1.0000 - val_loss: 0.1740 - val_accuracy: 0.9416 - lr: 1.0000e-09\n",
            "Epoch 95/100\n",
            "56/56 [==============================] - 0s 5ms/step - loss: 0.0064 - accuracy: 1.0000 - val_loss: 0.1740 - val_accuracy: 0.9416 - lr: 1.0000e-09\n",
            "Epoch 96/100\n",
            "56/56 [==============================] - 0s 4ms/step - loss: 0.0064 - accuracy: 1.0000 - val_loss: 0.1740 - val_accuracy: 0.9416 - lr: 1.0000e-09\n",
            "Epoch 97/100\n",
            "56/56 [==============================] - 0s 5ms/step - loss: 0.0064 - accuracy: 1.0000 - val_loss: 0.1740 - val_accuracy: 0.9416 - lr: 1.0000e-09\n",
            "Epoch 98/100\n",
            "56/56 [==============================] - 0s 4ms/step - loss: 0.0064 - accuracy: 1.0000 - val_loss: 0.1740 - val_accuracy: 0.9416 - lr: 1.0000e-09\n",
            "Epoch 99/100\n",
            "56/56 [==============================] - 0s 4ms/step - loss: 0.0064 - accuracy: 1.0000 - val_loss: 0.1740 - val_accuracy: 0.9416 - lr: 1.0000e-09\n",
            "Epoch 100/100\n",
            "56/56 [==============================] - 0s 4ms/step - loss: 0.0064 - accuracy: 1.0000 - val_loss: 0.1740 - val_accuracy: 0.9416 - lr: 1.0000e-09\n"
          ]
        }
      ]
    },
    {
      "cell_type": "markdown",
      "source": [
        "### Model Evaluation"
      ],
      "metadata": {
        "id": "UU0l8aaOyaOc"
      }
    },
    {
      "cell_type": "code",
      "source": [
        "acc = history.history['accuracy']\n",
        "val_acc = history.history['val_accuracy']\n",
        "loss = history.history['loss']\n",
        "val_loss = history.history['val_loss']\n",
        "\n",
        "epochs = range(len(acc))\n",
        "\n",
        "fig = plt.figure(figsize = (20,8))\n",
        "ax1 = fig.add_subplot(1,2,1)\n",
        "ax2 = fig.add_subplot(1,2,2)\n",
        "\n",
        "\n",
        "ax1.plot(epochs, acc, label='Training accuracy')\n",
        "ax1.plot(epochs, val_acc, label='Validation accuracy')\n",
        "ax1.set_title('Training and validation accuracy')\n",
        "ax1.legend(loc=0)\n",
        "\n",
        "\n",
        "ax2.plot(epochs, loss, label='Training loss')\n",
        "ax2.plot(epochs, val_loss, label='Validation loss')\n",
        "ax2.set_title('Training and validation loss')\n",
        "ax2.legend(loc=0)"
      ],
      "metadata": {
        "colab": {
          "base_uri": "https://localhost:8080/",
          "height": 429
        },
        "id": "S0MVZtfKx44e",
        "outputId": "4e362cae-0798-4d85-a032-cd1e6b07fd52"
      },
      "execution_count": 24,
      "outputs": [
        {
          "output_type": "execute_result",
          "data": {
            "text/plain": [
              "<matplotlib.legend.Legend at 0x7f4d886ee090>"
            ]
          },
          "metadata": {},
          "execution_count": 24
        },
        {
          "output_type": "display_data",
          "data": {
            "text/plain": [
              "<Figure size 1440x576 with 2 Axes>"
            ],
            "image/png": "[encoded data removed]"
          },
          "metadata": {}
        }
      ]
    },
    {
      "cell_type": "markdown",
      "source": [
        "### 3D Word Embedding Visualization"
      ],
      "metadata": {
        "id": "jfzyx2DMzCfT"
      }
    },
    {
      "cell_type": "code",
      "source": [
        "# Reverse word index\n",
        "reverse_word_index = dict([(value, key) for (key, value) in word_index.items()])\n",
        "\n",
        "# Save the embedding layer\n",
        "e = model.layers[0]\n",
        "\n",
        "# Save the weights of the embedding layer\n",
        "weights = e.get_weights()[0]\n",
        "print(f\"Weights of embedding layer have shape: {weights.shape}\")"
      ],
      "metadata": {
        "colab": {
          "base_uri": "https://localhost:8080/"
        },
        "id": "U39_EuzxzO-i",
        "outputId": "d82e0f4c-e56e-4742-8327-c0a722959dc9"
      },
      "execution_count": 26,
      "outputs": [
        {
          "output_type": "stream",
          "name": "stdout",
          "text": [
            "Weights of embedding layer have shape: (1000, 16)\n"
          ]
        }
      ]
    },
    {
      "cell_type": "code",
      "source": [
        "out_v = io.open('vecs.tsv', 'w', encoding='utf-8')\n",
        "out_m = io.open('meta.tsv', 'w', encoding='utf-8')\n",
        "\n",
        "for word_num in range(1, NUM_WORDS):\n",
        "    word = reverse_word_index[word_num]\n",
        "    embeddings = weights[word_num]\n",
        "    out_m.write(word + \"\\n\")\n",
        "    out_v.write('\\t'.join([str(x) for x in embeddings]) + \"\\n\")\n",
        "    \n",
        "out_v.close()\n",
        "out_m.close()"
      ],
      "metadata": {
        "id": "uqdzatEKzGzS"
      },
      "execution_count": 27,
      "outputs": []
    },
    {
      "cell_type": "markdown",
      "source": [
        "### Visualization at [Embedding Projector](https://projector.tensorflow.org/)"
      ],
      "metadata": {
        "id": "d-IlDHVlzUFp"
      }
    }
  ]
}