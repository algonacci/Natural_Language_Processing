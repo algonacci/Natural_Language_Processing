{
  "nbformat": 4,
  "nbformat_minor": 0,
  "metadata": {
    "colab": {
      "name": "Custom_NER_SpaCy.ipynb",
      "provenance": []
    },
    "kernelspec": {
      "name": "python3",
      "display_name": "Python 3"
    },
    "language_info": {
      "name": "python"
    }
  },
  "cells": [
    {
      "cell_type": "markdown",
      "source": [
        "### Data annotation:\n",
        "- https://tecoholic.github.io/ner-annotator/"
      ],
      "metadata": {
        "id": "6Z0md-Qn6tha"
      }
    },
    {
      "cell_type": "markdown",
      "source": [
        "### Setup"
      ],
      "metadata": {
        "id": "TW6O7VDmzVpM"
      }
    },
    {
      "cell_type": "code",
      "source": [
        "from IPython.display import clear_output"
      ],
      "metadata": {
        "id": "6rrPZNkMzkGl"
      },
      "execution_count": 3,
      "outputs": []
    },
    {
      "cell_type": "code",
      "source": [
        "!pip install -U spacy -q\n",
        "!python -m spacy info\n",
        "clear_output()"
      ],
      "metadata": {
        "id": "EoTZ-HJlzPGI"
      },
      "execution_count": 4,
      "outputs": []
    },
    {
      "cell_type": "markdown",
      "source": [
        "### Import Libraries"
      ],
      "metadata": {
        "id": "_jWSQ-5Kzris"
      }
    },
    {
      "cell_type": "code",
      "source": [
        "import spacy\n",
        "from spacy.tokens import DocBin\n",
        "from tqdm import tqdm\n",
        "\n",
        "nlp = spacy.blank(\"id\")\n",
        "db = DocBin()"
      ],
      "metadata": {
        "id": "rm-AklQPzqms"
      },
      "execution_count": 5,
      "outputs": []
    },
    {
      "cell_type": "markdown",
      "source": [
        "### Load Dataset"
      ],
      "metadata": {
        "id": "KocdAPVk0FLa"
      }
    },
    {
      "cell_type": "code",
      "source": [
        "import json\n",
        "\n",
        "f = open(\"annotations.json\")\n",
        "TRAIN_DATA = json.load(f)"
      ],
      "metadata": {
        "id": "JXuzdZM50Enb"
      },
      "execution_count": 8,
      "outputs": []
    },
    {
      "cell_type": "code",
      "source": [
        "TRAIN_DATA"
      ],
      "metadata": {
        "colab": {
          "base_uri": "https://localhost:8080/"
        },
        "id": "Wc3ZPhzK0vm_",
        "outputId": "376fbabe-fe82-433e-e21e-2a8317c48323"
      },
      "execution_count": 9,
      "outputs": [
        {
          "output_type": "execute_result",
          "data": {
            "text/plain": [
              "{'classes': ['PERUSAHAAN', 'TEKNOLOGI', 'NEGARA', 'SEKTOR'],\n",
              " 'annotations': [['Istilah metaverse sudah tidak asing lagi di telinga kita. Baru-baru ini, Microsoft mengakuisisi game developer Activision Blizzard. Mereka mengatakan bahwa akuisisi ini akan membantu membangun dunia metaverse mereka. Pendiri Facebook, Mark Zuckerberg, mengganti nama perusahaan platform media sosialnya dari Facebook menjadi Meta. Google juga telah mengerjakan teknologi terkait metaverse selama bertahun-tahun. Tetapi dengan semua inisiatif terkait metaverse dari raksasa-raksasa teknologi ini, apa sebenarnya arti dari metaverse? Lebih pentingnya lagi, apakah metaverse sudah ada di Indonesia?',\n",
              "   {'entities': [[8, 17, 'TEKNOLOGI'],\n",
              "     [73, 82, 'PERUSAHAAN'],\n",
              "     [111, 131, 'PERUSAHAAN'],\n",
              "     [199, 208, 'TEKNOLOGI'],\n",
              "     [225, 233, 'PERUSAHAAN'],\n",
              "     [308, 316, 'PERUSAHAAN'],\n",
              "     [325, 330, 'PERUSAHAAN'],\n",
              "     [331, 337, 'PERUSAHAAN'],\n",
              "     [450, 459, 'TEKNOLOGI'],\n",
              "     [585, 594, 'NEGARA']]}],\n",
              "  ['Terlahir dari kombinasi berbagai teknologi, metaverse adalah bentuk penggabungan antara dunia nyata dan digital kita. Hasilnya, metaverse menjadi lingkungan digital yang menggunakan teknologi mutakhir, seperti AR, VR, blockchain. Teknologi ini digabungkan dengan ide-ide dari media sosial dan dari situ, terbentuklah ruang interaksi digital yang sangat imersif dan interaktif. ',\n",
              "   {'entities': [[44, 53, 'TEKNOLOGI'],\n",
              "     [128, 137, 'TEKNOLOGI'],\n",
              "     [210, 212, 'TEKNOLOGI'],\n",
              "     [214, 216, 'TEKNOLOGI'],\n",
              "     [218, 229, 'TEKNOLOGI']]}],\n",
              "  ['Di Indonesia, saya melihat bahwa banyak orang sudah membahas metaverse. Namun, saya juga menyadari bahwa bentuk tercanggih dari metaverse ini belum muncul di Indonesia. Akan tetapi, meskipun banyak yang masih dalam tahap konsep, kita sudah bisa melihat dan merasakan perkembangan awal dari metaverse di sekeliling kita. Di Indonesia sendiri, metaverse sudah muncul di berbagai sektor, di mana penggunanya paling adaptif terhadap inovasi digital.',\n",
              "   {'entities': [[3, 12, 'NEGARA'],\n",
              "     [61, 71, 'TEKNOLOGI'],\n",
              "     [128, 137, 'TEKNOLOGI'],\n",
              "     [158, 168, 'NEGARA'],\n",
              "     [323, 332, 'NEGARA']]}],\n",
              "  ['Indonesia memiliki beberapa tantangan untuk mengadopsi metaverse. Tantangan utama dari adaptasi metaverse di Indonesia adalah kesiapan ekosistem kita. Contoh nyata di Indonesia adalah kebocoran data, yang disebabkan dengan minimnya infrastruktur digital. Namun, potensi dari metaverse jauh lebih besar jika dibandingkan dengan tantangannya.',\n",
              "   {'entities': [[0, 9, 'NEGARA'],\n",
              "     [55, 65, 'TEKNOLOGI'],\n",
              "     [96, 105, 'TEKNOLOGI'],\n",
              "     [109, 118, 'NEGARA'],\n",
              "     [167, 176, 'NEGARA'],\n",
              "     [275, 284, 'TEKNOLOGI']]}],\n",
              "  ['Di sisi lain, potensi adaptasi metaverse yang sangat besar di Indonesia adalah dalam sektor pariwisata. Metaverse dapat digunakan untuk memperkenalkan dan mempertunjukkan kekayaan budaya, makanan, dan destinasi wisata di seluruh Indonesia. Penggunaan metaverse pun akan mendorong UMKM lokal, dan ini krusial karena UMKM di Indonesia merupakan pendorong utama dari pertumbuhan ekonomi negara.\\n',\n",
              "   {'entities': [[92, 103, 'SEKTOR'],\n",
              "     [180, 186, 'SEKTOR'],\n",
              "     [188, 195, 'SEKTOR'],\n",
              "     [201, 217, 'SEKTOR'],\n",
              "     [280, 284, 'SEKTOR'],\n",
              "     [315, 319, 'SEKTOR'],\n",
              "     [323, 332, 'NEGARA'],\n",
              "     [376, 383, 'SEKTOR']]}]]}"
            ]
          },
          "metadata": {},
          "execution_count": 9
        }
      ]
    },
    {
      "cell_type": "markdown",
      "source": [
        "### Data Processing"
      ],
      "metadata": {
        "id": "rFgv1baS1Z4K"
      }
    },
    {
      "cell_type": "code",
      "source": [
        "for text, annot in tqdm(TRAIN_DATA['annotations']):\n",
        "  doc = nlp.make_doc(text)\n",
        "  ents = []\n",
        "  for start, end, label in annot[\"entities\"]:\n",
        "    span = doc.char_span(start, end, label=label, alignment_mode=\"contract\")\n",
        "    if span is None:\n",
        "      print(\"Skipping entity\")\n",
        "    else:\n",
        "      ents.append(span)\n",
        "  doc.ents = ents\n",
        "  db.add(doc)\n",
        "\n",
        "db.to_disk(\"model.spacy\")"
      ],
      "metadata": {
        "colab": {
          "base_uri": "https://localhost:8080/"
        },
        "id": "qNQH-9jx0Or6",
        "outputId": "10021cd7-6f40-4402-bb9a-0466b393bd71"
      },
      "execution_count": 13,
      "outputs": [
        {
          "output_type": "stream",
          "name": "stderr",
          "text": [
            "100%|██████████| 5/5 [00:00<00:00, 842.60it/s]\n"
          ]
        }
      ]
    },
    {
      "cell_type": "code",
      "source": [
        "!python -m spacy init config config.cfg --lang id --pipeline ner --optimize efficiency"
      ],
      "metadata": {
        "colab": {
          "base_uri": "https://localhost:8080/"
        },
        "id": "L-IXWLK41BuU",
        "outputId": "47b27035-448f-48e4-d9ca-130aa52da7b1"
      },
      "execution_count": 16,
      "outputs": [
        {
          "output_type": "stream",
          "name": "stdout",
          "text": [
            "2022-08-26 15:55:32.669404: E tensorflow/stream_executor/cuda/cuda_driver.cc:271] failed call to cuInit: CUDA_ERROR_NO_DEVICE: no CUDA-capable device is detected\n",
            "\u001b[38;5;3m⚠ To generate a more effective transformer-based config (GPU-only),\n",
            "install the spacy-transformers package and re-run this command. The config\n",
            "generated now does not use transformers.\u001b[0m\n",
            "\u001b[38;5;4mℹ Generated config template specific for your use case\u001b[0m\n",
            "- Language: id\n",
            "- Pipeline: ner\n",
            "- Optimize for: efficiency\n",
            "- Hardware: CPU\n",
            "- Transformer: None\n",
            "\u001b[38;5;2m✔ Auto-filled config with all values\u001b[0m\n",
            "\u001b[38;5;2m✔ Saved config\u001b[0m\n",
            "config.cfg\n",
            "You can now add your data and train your pipeline:\n",
            "python -m spacy train config.cfg --paths.train ./train.spacy --paths.dev ./dev.spacy\n"
          ]
        }
      ]
    },
    {
      "cell_type": "markdown",
      "source": [
        "### Training the NER model"
      ],
      "metadata": {
        "id": "Rm25ksRl1ssT"
      }
    },
    {
      "cell_type": "code",
      "source": [
        "!python -m spacy train config.cfg --output ./ --paths.train ./model.spacy --paths.dev ./model.spacy"
      ],
      "metadata": {
        "colab": {
          "base_uri": "https://localhost:8080/"
        },
        "id": "HyqfhVMp1r1d",
        "outputId": "90d399ab-6da6-4c14-8d26-8ed8a435fbee"
      },
      "execution_count": 17,
      "outputs": [
        {
          "output_type": "stream",
          "name": "stdout",
          "text": [
            "2022-08-26 15:55:42.246530: E tensorflow/stream_executor/cuda/cuda_driver.cc:271] failed call to cuInit: CUDA_ERROR_NO_DEVICE: no CUDA-capable device is detected\n",
            "\u001b[38;5;4mℹ Saving to output directory: .\u001b[0m\n",
            "\u001b[38;5;4mℹ Using CPU\u001b[0m\n",
            "\u001b[1m\n",
            "=========================== Initializing pipeline ===========================\u001b[0m\n",
            "[2022-08-26 15:55:46,378] [INFO] Set up nlp object from config\n",
            "[2022-08-26 15:55:46,390] [INFO] Pipeline: ['tok2vec', 'ner']\n",
            "[2022-08-26 15:55:46,395] [INFO] Created vocabulary\n",
            "[2022-08-26 15:55:46,396] [INFO] Finished initializing nlp object\n",
            "[2022-08-26 15:55:46,586] [INFO] Initialized pipeline components: ['tok2vec', 'ner']\n",
            "\u001b[38;5;2m✔ Initialized pipeline\u001b[0m\n",
            "\u001b[1m\n",
            "============================= Training pipeline =============================\u001b[0m\n",
            "\u001b[38;5;4mℹ Pipeline: ['tok2vec', 'ner']\u001b[0m\n",
            "\u001b[38;5;4mℹ Initial learn rate: 0.001\u001b[0m\n",
            "E    #       LOSS TOK2VEC  LOSS NER  ENTS_F  ENTS_P  ENTS_R  SCORE \n",
            "---  ------  ------------  --------  ------  ------  ------  ------\n",
            "  0       0          0.00     35.44    0.00    0.00    0.00    0.00\n",
            " 24     200        406.42   1324.72  100.00  100.00  100.00    1.00\n",
            " 54     400          0.00      0.00  100.00  100.00  100.00    1.00\n",
            " 93     600          0.00      0.00  100.00  100.00  100.00    1.00\n",
            "142     800          0.00      0.00  100.00  100.00  100.00    1.00\n",
            "206    1000          0.00      0.00  100.00  100.00  100.00    1.00\n",
            "282    1200          0.00      0.00  100.00  100.00  100.00    1.00\n",
            "382    1400          0.00      0.00  100.00  100.00  100.00    1.00\n",
            "482    1600          0.00      0.00  100.00  100.00  100.00    1.00\n",
            "633    1800          0.00      0.00  100.00  100.00  100.00    1.00\n",
            "\u001b[38;5;2m✔ Saved pipeline to output directory\u001b[0m\n",
            "model-last\n"
          ]
        }
      ]
    },
    {
      "cell_type": "markdown",
      "source": [
        "### NER Model Testing"
      ],
      "metadata": {
        "id": "4q7vQalb3wSI"
      }
    },
    {
      "cell_type": "code",
      "source": [
        "ner = spacy.load('model-best')"
      ],
      "metadata": {
        "id": "dZNOy7Xk1r0K"
      },
      "execution_count": 18,
      "outputs": []
    },
    {
      "cell_type": "code",
      "source": [
        "doc = ner('''\n",
        "Istilah metaverse sudah tidak asing lagi di telinga kita. Baru-baru ini, Microsoft mengakuisisi game developer Activision Blizzard. Mereka mengatakan bahwa akuisisi ini akan membantu membangun dunia metaverse mereka. Pendiri Facebook, Mark Zuckerberg, mengganti nama perusahaan platform media sosialnya dari Facebook menjadi Meta. Google juga telah mengerjakan teknologi terkait metaverse selama bertahun-tahun. Tetapi dengan semua inisiatif terkait metaverse dari raksasa-raksasa teknologi ini, apa sebenarnya arti dari metaverse? Lebih pentingnya lagi, apakah metaverse sudah ada di Indonesia?\n",
        "\n",
        "Metaverse akan terus berkembang, dan ini membuka berbagai peluang untuk industri telekomunikasi. Perusahaan telekomunikasi digital merupakan kunci untuk membangun platform metaverse melalui ekosistem kemitraan yang luas, analitik canggih melalui AI, dan human interface hardware. Selain itu, privasi dan keamanan siber harus dijaga oleh seluruh pemain di industri telekomunikasi. Yang paling penting, industri telekomunikasi merupakan penghubung utama dalam memastikan metaverse dapat diakses seluruh masyarakat Indonesia.\n",
        "\n",
        "Di sisi lain, potensi adaptasi metaverse yang sangat besar di Indonesia adalah dalam sektor pariwisata. Metaverse dapat digunakan untuk memperkenalkan dan mempertunjukkan kekayaan budaya, makanan, dan destinasi wisata di seluruh Indonesia. Penggunaan metaverse pun akan mendorong UMKM lokal, dan ini krusial karena UMKM di Indonesia merupakan pendorong utama dari pertumbuhan ekonomi negara.\n",
        "''')"
      ],
      "metadata": {
        "id": "GzO9oqoO4BJV"
      },
      "execution_count": 34,
      "outputs": []
    },
    {
      "cell_type": "code",
      "source": [
        "colors = {\"perusahaan\": \"#85C1E9\", \"teknologi\":\"#ff6961\", \"sektor\": \"#845EC2\"}\n",
        "options = {\"ents\": [\"perusahaan\", \"teknologi\", \"sektor\"], \"colors\": colors}\n",
        "\n",
        "spacy.displacy.render(doc, style=\"ent\", jupyter=True, options=options)"
      ],
      "metadata": {
        "colab": {
          "base_uri": "https://localhost:8080/",
          "height": 472
        },
        "id": "hKcMY9XU4SrP",
        "outputId": "31db3fd3-68c2-47ed-fae1-63e5aa6ab92b"
      },
      "execution_count": 35,
      "outputs": [
        {
          "output_type": "display_data",
          "data": {
            "text/plain": [
              "<IPython.core.display.HTML object>"
            ],
            "text/html": [
              "<span class=\"tex2jax_ignore\"><div class=\"entities\" style=\"line-height: 2.5; direction: ltr\"></br>Istilah \n",
              "<mark class=\"entity\" style=\"background: #ff6961; padding: 0.45em 0.6em; margin: 0 0.25em; line-height: 1; border-radius: 0.35em;\">\n",
              "    metaverse\n",
              "    <span style=\"font-size: 0.8em; font-weight: bold; line-height: 1; border-radius: 0.35em; vertical-align: middle; margin-left: 0.5rem\">TEKNOLOGI</span>\n",
              "</mark>\n",
              " sudah tidak asing lagi di telinga kita. Baru-baru ini, \n",
              "<mark class=\"entity\" style=\"background: #85C1E9; padding: 0.45em 0.6em; margin: 0 0.25em; line-height: 1; border-radius: 0.35em;\">\n",
              "    Microsoft\n",
              "    <span style=\"font-size: 0.8em; font-weight: bold; line-height: 1; border-radius: 0.35em; vertical-align: middle; margin-left: 0.5rem\">PERUSAHAAN</span>\n",
              "</mark>\n",
              " mengakuisisi game developer \n",
              "<mark class=\"entity\" style=\"background: #85C1E9; padding: 0.45em 0.6em; margin: 0 0.25em; line-height: 1; border-radius: 0.35em;\">\n",
              "    Activision Blizzard.\n",
              "    <span style=\"font-size: 0.8em; font-weight: bold; line-height: 1; border-radius: 0.35em; vertical-align: middle; margin-left: 0.5rem\">PERUSAHAAN</span>\n",
              "</mark>\n",
              " Mereka mengatakan bahwa akuisisi ini akan membantu membangun dunia \n",
              "<mark class=\"entity\" style=\"background: #ff6961; padding: 0.45em 0.6em; margin: 0 0.25em; line-height: 1; border-radius: 0.35em;\">\n",
              "    metaverse\n",
              "    <span style=\"font-size: 0.8em; font-weight: bold; line-height: 1; border-radius: 0.35em; vertical-align: middle; margin-left: 0.5rem\">TEKNOLOGI</span>\n",
              "</mark>\n",
              " mereka. Pendiri \n",
              "<mark class=\"entity\" style=\"background: #85C1E9; padding: 0.45em 0.6em; margin: 0 0.25em; line-height: 1; border-radius: 0.35em;\">\n",
              "    Facebook\n",
              "    <span style=\"font-size: 0.8em; font-weight: bold; line-height: 1; border-radius: 0.35em; vertical-align: middle; margin-left: 0.5rem\">PERUSAHAAN</span>\n",
              "</mark>\n",
              ", Mark Zuckerberg, mengganti nama perusahaan platform media sosialnya dari \n",
              "<mark class=\"entity\" style=\"background: #85C1E9; padding: 0.45em 0.6em; margin: 0 0.25em; line-height: 1; border-radius: 0.35em;\">\n",
              "    Facebook\n",
              "    <span style=\"font-size: 0.8em; font-weight: bold; line-height: 1; border-radius: 0.35em; vertical-align: middle; margin-left: 0.5rem\">PERUSAHAAN</span>\n",
              "</mark>\n",
              " menjadi \n",
              "<mark class=\"entity\" style=\"background: #85C1E9; padding: 0.45em 0.6em; margin: 0 0.25em; line-height: 1; border-radius: 0.35em;\">\n",
              "    Meta.\n",
              "    <span style=\"font-size: 0.8em; font-weight: bold; line-height: 1; border-radius: 0.35em; vertical-align: middle; margin-left: 0.5rem\">PERUSAHAAN</span>\n",
              "</mark>\n",
              " \n",
              "<mark class=\"entity\" style=\"background: #85C1E9; padding: 0.45em 0.6em; margin: 0 0.25em; line-height: 1; border-radius: 0.35em;\">\n",
              "    Google\n",
              "    <span style=\"font-size: 0.8em; font-weight: bold; line-height: 1; border-radius: 0.35em; vertical-align: middle; margin-left: 0.5rem\">PERUSAHAAN</span>\n",
              "</mark>\n",
              " juga telah mengerjakan teknologi terkait metaverse selama bertahun-tahun. Tetapi dengan semua inisiatif terkait \n",
              "<mark class=\"entity\" style=\"background: #ff6961; padding: 0.45em 0.6em; margin: 0 0.25em; line-height: 1; border-radius: 0.35em;\">\n",
              "    metaverse\n",
              "    <span style=\"font-size: 0.8em; font-weight: bold; line-height: 1; border-radius: 0.35em; vertical-align: middle; margin-left: 0.5rem\">TEKNOLOGI</span>\n",
              "</mark>\n",
              " dari raksasa-raksasa teknologi ini, apa sebenarnya arti dari metaverse? Lebih pentingnya lagi, apakah metaverse sudah ada di Indonesia?</br></br>Metaverse akan terus berkembang, dan ini membuka berbagai peluang untuk industri telekomunikasi. Perusahaan telekomunikasi digital merupakan kunci untuk membangun platform \n",
              "<mark class=\"entity\" style=\"background: #ff6961; padding: 0.45em 0.6em; margin: 0 0.25em; line-height: 1; border-radius: 0.35em;\">\n",
              "    metaverse\n",
              "    <span style=\"font-size: 0.8em; font-weight: bold; line-height: 1; border-radius: 0.35em; vertical-align: middle; margin-left: 0.5rem\">TEKNOLOGI</span>\n",
              "</mark>\n",
              " melalui ekosistem kemitraan yang luas, analitik canggih melalui \n",
              "<mark class=\"entity\" style=\"background: #ff6961; padding: 0.45em 0.6em; margin: 0 0.25em; line-height: 1; border-radius: 0.35em;\">\n",
              "    AI\n",
              "    <span style=\"font-size: 0.8em; font-weight: bold; line-height: 1; border-radius: 0.35em; vertical-align: middle; margin-left: 0.5rem\">TEKNOLOGI</span>\n",
              "</mark>\n",
              ", dan human interface hardware. Selain itu, privasi dan keamanan siber harus dijaga oleh seluruh pemain di industri telekomunikasi. Yang paling penting, industri telekomunikasi merupakan penghubung utama dalam memastikan metaverse dapat diakses seluruh masyarakat Indonesia.</br></br>Di sisi lain, potensi adaptasi metaverse yang sangat besar di Indonesia adalah dalam sektor \n",
              "<mark class=\"entity\" style=\"background: #845EC2; padding: 0.45em 0.6em; margin: 0 0.25em; line-height: 1; border-radius: 0.35em;\">\n",
              "    pariwisata.\n",
              "    <span style=\"font-size: 0.8em; font-weight: bold; line-height: 1; border-radius: 0.35em; vertical-align: middle; margin-left: 0.5rem\">SEKTOR</span>\n",
              "</mark>\n",
              " Metaverse dapat digunakan untuk memperkenalkan dan mempertunjukkan kekayaan \n",
              "<mark class=\"entity\" style=\"background: #845EC2; padding: 0.45em 0.6em; margin: 0 0.25em; line-height: 1; border-radius: 0.35em;\">\n",
              "    budaya\n",
              "    <span style=\"font-size: 0.8em; font-weight: bold; line-height: 1; border-radius: 0.35em; vertical-align: middle; margin-left: 0.5rem\">SEKTOR</span>\n",
              "</mark>\n",
              ", \n",
              "<mark class=\"entity\" style=\"background: #845EC2; padding: 0.45em 0.6em; margin: 0 0.25em; line-height: 1; border-radius: 0.35em;\">\n",
              "    makanan\n",
              "    <span style=\"font-size: 0.8em; font-weight: bold; line-height: 1; border-radius: 0.35em; vertical-align: middle; margin-left: 0.5rem\">SEKTOR</span>\n",
              "</mark>\n",
              ", dan \n",
              "<mark class=\"entity\" style=\"background: #845EC2; padding: 0.45em 0.6em; margin: 0 0.25em; line-height: 1; border-radius: 0.35em;\">\n",
              "    destinasi wisata\n",
              "    <span style=\"font-size: 0.8em; font-weight: bold; line-height: 1; border-radius: 0.35em; vertical-align: middle; margin-left: 0.5rem\">SEKTOR</span>\n",
              "</mark>\n",
              " di seluruh Indonesia. Penggunaan metaverse pun akan mendorong \n",
              "<mark class=\"entity\" style=\"background: #845EC2; padding: 0.45em 0.6em; margin: 0 0.25em; line-height: 1; border-radius: 0.35em;\">\n",
              "    UMKM\n",
              "    <span style=\"font-size: 0.8em; font-weight: bold; line-height: 1; border-radius: 0.35em; vertical-align: middle; margin-left: 0.5rem\">SEKTOR</span>\n",
              "</mark>\n",
              " lokal, dan ini krusial karena \n",
              "<mark class=\"entity\" style=\"background: #845EC2; padding: 0.45em 0.6em; margin: 0 0.25em; line-height: 1; border-radius: 0.35em;\">\n",
              "    UMKM\n",
              "    <span style=\"font-size: 0.8em; font-weight: bold; line-height: 1; border-radius: 0.35em; vertical-align: middle; margin-left: 0.5rem\">SEKTOR</span>\n",
              "</mark>\n",
              " di Indonesia merupakan pendorong utama dari pertumbuhan \n",
              "<mark class=\"entity\" style=\"background: #845EC2; padding: 0.45em 0.6em; margin: 0 0.25em; line-height: 1; border-radius: 0.35em;\">\n",
              "    ekonomi\n",
              "    <span style=\"font-size: 0.8em; font-weight: bold; line-height: 1; border-radius: 0.35em; vertical-align: middle; margin-left: 0.5rem\">SEKTOR</span>\n",
              "</mark>\n",
              " negara.</br></div></span>"
            ]
          },
          "metadata": {}
        }
      ]
    }
  ]
}