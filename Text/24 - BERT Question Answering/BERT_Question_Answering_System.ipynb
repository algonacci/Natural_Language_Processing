{
  "nbformat": 4,
  "nbformat_minor": 0,
  "metadata": {
    "colab": {
      "provenance": []
    },
    "kernelspec": {
      "name": "python3",
      "display_name": "Python 3"
    },
    "language_info": {
      "name": "python"
    }
  },
  "cells": [
    {
      "cell_type": "markdown",
      "source": [
        "### Setup"
      ],
      "metadata": {
        "id": "v6NuPzQjeLt4"
      }
    },
    {
      "cell_type": "code",
      "execution_count": 1,
      "metadata": {
        "id": "Cnr3BWDSeA2S"
      },
      "outputs": [],
      "source": [
        "from IPython.display import clear_output\n",
        "!pip install transformers\n",
        "clear_output()"
      ]
    },
    {
      "cell_type": "markdown",
      "source": [
        "### Import Libraries"
      ],
      "metadata": {
        "id": "g7w8qagbeYTc"
      }
    },
    {
      "cell_type": "code",
      "source": [
        "from transformers import BertForQuestionAnswering\n",
        "from transformers import BertTokenizer\n",
        "import torch"
      ],
      "metadata": {
        "id": "9886hkwEeR8m"
      },
      "execution_count": 2,
      "outputs": []
    },
    {
      "cell_type": "markdown",
      "source": [
        "### Question Answering System"
      ],
      "metadata": {
        "id": "CiONrz6aeayd"
      }
    },
    {
      "cell_type": "code",
      "source": [
        "def get_answer_using_bert(question, reference_text):\n",
        "    # Load fine-tuned model for QA\n",
        "    bert_model = BertForQuestionAnswering.from_pretrained('bert-large-uncased-whole-word-masking-finetuned-squad')\n",
        "\n",
        "    # Load Vocab as well\n",
        "    bert_tokenizer = BertTokenizer.from_pretrained('bert-large-uncased-whole-word-masking-finetuned-squad')\n",
        "\n",
        "    # Apply bert_tokenizer on input text\n",
        "    input_ids = bert_tokenizer.encode(question, reference_text)\n",
        "    input_tokens = bert_tokenizer.convert_ids_to_tokens(input_ids)\n",
        "\n",
        "    # Search index of first [SEP] token\n",
        "    sep_location = input_ids.index(bert_tokenizer.sep_token_id)\n",
        "    first_seg_len, second_seg_len = sep_location + 1, len(input_ids) - (sep_location + 1)\n",
        "    seg_embedding = [0] * first_seg_len + [1] * second_seg_len\n",
        "\n",
        "    # Run our example on model\n",
        "    model_scores = bert_model(torch.tensor([input_ids]), token_type_ids=torch.tensor([seg_embedding]))\n",
        "    ans_start_loc, ans_end_loc = torch.argmax(model_scores[0]), torch.argmax(model_scores[1])\n",
        "    result = ' '.join(input_tokens[ans_start_loc:ans_end_loc + 1])\n",
        "\n",
        "    # Return final result\n",
        "    result = result.replace(' ##', '')\n",
        "    return result"
      ],
      "metadata": {
        "id": "vW_ojjTaeR0l"
      },
      "execution_count": 3,
      "outputs": []
    },
    {
      "cell_type": "markdown",
      "source": [
        "### Testing"
      ],
      "metadata": {
        "id": "xnDin0TQfBRC"
      }
    },
    {
      "cell_type": "code",
      "source": [
        "question = \"what was invented in 1888\"\n",
        "reference = \"In 1888, the football league was foundeed in England, becoming the first of \\\n",
        "many professional football competition\""
      ],
      "metadata": {
        "id": "fkZe-8whe7ft"
      },
      "execution_count": 12,
      "outputs": []
    },
    {
      "cell_type": "code",
      "source": [
        "get_answer_using_bert(question, reference)"
      ],
      "metadata": {
        "colab": {
          "base_uri": "https://localhost:8080/",
          "height": 35
        },
        "id": "w0bajlOzfA1S",
        "outputId": "1d0a8552-53b0-462e-cc3c-e5c232ce0bd3"
      },
      "execution_count": 13,
      "outputs": [
        {
          "output_type": "execute_result",
          "data": {
            "text/plain": [
              "'the football league'"
            ],
            "application/vnd.google.colaboratory.intrinsic+json": {
              "type": "string"
            }
          },
          "metadata": {},
          "execution_count": 13
        }
      ]
    }
  ]
}